{
 "cells": [
  {
   "cell_type": "code",
   "execution_count": null,
   "metadata": {},
   "outputs": [],
   "source": []
  },
  {
   "cell_type": "markdown",
   "metadata": {},
   "source": [
    "##OOP Fundamentals\n"
   ]
  },
  {
   "cell_type": "code",
   "execution_count": 6,
   "metadata": {},
   "outputs": [
    {
     "name": "stdout",
     "output_type": "stream",
     "text": [
      "handelsakademin OOP Noah True\n"
     ]
    }
   ],
   "source": [
    "class antagning: \n",
    "    def __init__(self, school, program, name, acccept):\n",
    "        self.school = school\n",
    "        self.program = program\n",
    "        self.name = name \n",
    "        self.accept = acccept \n",
    "\n",
    "student1 = antagning(\"handelsakademin\", \"OOP\", \"Noah\", True)      \n",
    "print(student1.school, student1.program, student1.name, student1.accept)   "
   ]
  },
  {
   "cell_type": "markdown",
   "metadata": {},
   "source": [
    "#Konstruktorn är alltså init, vi behöver inte ha med attribut i klass raden, det bestäms i konstruktorn"
   ]
  },
  {
   "cell_type": "code",
   "execution_count": 10,
   "metadata": {},
   "outputs": [
    {
     "name": "stdout",
     "output_type": "stream",
     "text": [
      "John 36\n",
      "36\n"
     ]
    }
   ],
   "source": [
    "class Person:\n",
    "  def __init__(self, name, age):\n",
    "    self.name = name\n",
    "    self.age = age\n",
    "\n",
    "p1 = Person(\"John\", 36)\n",
    "\n",
    "print(p1.self)\n",
    "print(p1.age)"
   ]
  },
  {
   "cell_type": "code",
   "execution_count": 12,
   "metadata": {},
   "outputs": [
    {
     "data": {
      "text/plain": [
       "antagning(school='handelsakademin', program='OOP', name='Noah', accept='True')"
      ]
     },
     "execution_count": 12,
     "metadata": {},
     "output_type": "execute_result"
    }
   ],
   "source": [
    "class antagning: \n",
    "    def __init__(self, school, program, name, acccept):\n",
    "        self.school = school\n",
    "        self.program = program\n",
    "        self.name = name \n",
    "        self.accept = acccept \n",
    "#used for other devs and yourself to show what the instances can do etc. \n",
    "    def __repr__(self) -> str:\n",
    "        return f\"antagning(school='{self.school}', program='{self.program}', name='{self.name}', accept='{self.accept}')\"\n",
    "\n",
    "antagning(\"handelsakademin\", \"OOP\", \"Noah\", True)   "
   ]
  },
  {
   "cell_type": "code",
   "execution_count": 16,
   "metadata": {},
   "outputs": [
    {
     "data": {
      "text/plain": [
       "Patient('Noah', 'ADD')"
      ]
     },
     "execution_count": 16,
     "metadata": {},
     "output_type": "execute_result"
    }
   ],
   "source": [
    "#encapsulation handlar ju om att skyda sina metoder klasser, i c# har vi privata publika osv\n",
    "\n",
    "class Patient:\n",
    "    def __init__(self, name, diagnosis) -> None:\n",
    "        self._name = name\n",
    "        self.__diagnosis = diagnosis\n",
    "\n",
    "    def __repr__(self) -> str:\n",
    "        # return f\"Patient=('{self._name}', Diagnosis='{self.__diagnosis}')\"\n",
    "        return f\"Patient('{self._name}', '{self.__diagnosis}')\"\n",
    "\n",
    "    \n",
    "Patient1 = Patient(\"Noah\", \"ADD\")\n",
    "Patient1"
   ]
  },
  {
   "cell_type": "code",
   "execution_count": 17,
   "metadata": {},
   "outputs": [
    {
     "data": {
      "text/plain": [
       "'Noah'"
      ]
     },
     "execution_count": 17,
     "metadata": {},
     "output_type": "execute_result"
    }
   ],
   "source": [
    "#Vi kan access privata attribut som name som vi gjort privat genom understreck, men vi skall inte\n",
    "Patient1._name"
   ]
  },
  {
   "cell_type": "code",
   "execution_count": 18,
   "metadata": {},
   "outputs": [
    {
     "ename": "AttributeError",
     "evalue": "'Patient' object has no attribute '__diagnosis'",
     "output_type": "error",
     "traceback": [
      "\u001b[1;31m---------------------------------------------------------------------------\u001b[0m",
      "\u001b[1;31mAttributeError\u001b[0m                            Traceback (most recent call last)",
      "Cell \u001b[1;32mIn[18], line 1\u001b[0m\n\u001b[1;32m----> 1\u001b[0m \u001b[43mPatient1\u001b[49m\u001b[38;5;241;43m.\u001b[39;49m\u001b[43m__diagnosis\u001b[49m\n",
      "\u001b[1;31mAttributeError\u001b[0m: 'Patient' object has no attribute '__diagnosis'"
     ]
    }
   ],
   "source": [
    "\n",
    "#två understreck så gör python en \"nameMangling\" detta attribut heter inte diagnosis numera\n",
    "Patient1.__diagnosis"
   ]
  },
  {
   "cell_type": "code",
   "execution_count": 19,
   "metadata": {},
   "outputs": [
    {
     "data": {
      "text/plain": [
       "{'_name': 'Noah', '_Patient__diagnosis': 'ADD'}"
      ]
     },
     "execution_count": 19,
     "metadata": {},
     "output_type": "execute_result"
    }
   ],
   "source": [
    "#här kan vi komma åt attributen\n",
    "Patient1.__dict__"
   ]
  },
  {
   "cell_type": "code",
   "execution_count": 20,
   "metadata": {},
   "outputs": [
    {
     "data": {
      "text/plain": [
       "'ADD'"
      ]
     },
     "execution_count": 20,
     "metadata": {},
     "output_type": "execute_result"
    }
   ],
   "source": [
    "#här kan vi komma åt attributet genom rätt namngivning, det finns alltså inte private i python. \n",
    "Patient1._Patient__diagnosis"
   ]
  },
  {
   "cell_type": "markdown",
   "metadata": {},
   "source": [
    "större exemple"
   ]
  },
  {
   "cell_type": "code",
   "execution_count": 24,
   "metadata": {},
   "outputs": [
    {
     "data": {
      "text/plain": [
       "(12, 321)"
      ]
     },
     "execution_count": 24,
     "metadata": {},
     "output_type": "execute_result"
    }
   ],
   "source": [
    "from numbers import Number \n",
    "\n",
    "class OldCoinStash: \n",
    "    def __init__(self, owner,) -> None:\n",
    "        self.owner = owner \n",
    "\n",
    "        #private, ish\n",
    "        self._riksdaler = 0 \n",
    "        self._skilling = 0 \n",
    "    \n",
    "    def deposit(self, riksdaler, skilling):\n",
    "        if not isinstance(riksdaler, Number) or not isinstance(skilling, Number):\n",
    "            raise TypeError(f\"riksdaler and skilling must be a number\")\n",
    "\n",
    "        if riksdaler <= 0 or skilling <= 0:\n",
    "            raise ValueError(f\"Not Valid: You tried to deposit {riksdaler} riksdaler and {skilling} skilling\")\n",
    "        \n",
    "        self._riksdaler +=  riksdaler\n",
    "        self._skilling += skilling \n",
    "\n",
    "stash1 = OldCoinStash(\"bella\")\n",
    "stash1.deposit(321, 12)\n",
    "stash1._skilling, stash1._riksdaler\n",
    "        "
   ]
  },
  {
   "cell_type": "code",
   "execution_count": 25,
   "metadata": {},
   "outputs": [
    {
     "ename": "TypeError",
     "evalue": "riksdaler and skilling must be a number",
     "output_type": "error",
     "traceback": [
      "\u001b[1;31m---------------------------------------------------------------------------\u001b[0m",
      "\u001b[1;31mTypeError\u001b[0m                                 Traceback (most recent call last)",
      "Cell \u001b[1;32mIn[25], line 1\u001b[0m\n\u001b[1;32m----> 1\u001b[0m \u001b[43mstash1\u001b[49m\u001b[38;5;241;43m.\u001b[39;49m\u001b[43mdeposit\u001b[49m\u001b[43m(\u001b[49m\u001b[38;5;124;43m\"\u001b[39;49m\u001b[38;5;124;43m50\u001b[39;49m\u001b[38;5;124;43m\"\u001b[39;49m\u001b[43m,\u001b[49m\u001b[43m \u001b[49m\u001b[38;5;124;43m\"\u001b[39;49m\u001b[38;5;124;43m30\u001b[39;49m\u001b[38;5;124;43m\"\u001b[39;49m\u001b[43m)\u001b[49m\n",
      "Cell \u001b[1;32mIn[24], line 13\u001b[0m, in \u001b[0;36mOldCoinStash.deposit\u001b[1;34m(self, riksdaler, skilling)\u001b[0m\n\u001b[0;32m     11\u001b[0m \u001b[38;5;28;01mdef\u001b[39;00m \u001b[38;5;21mdeposit\u001b[39m(\u001b[38;5;28mself\u001b[39m, riksdaler, skilling):\n\u001b[0;32m     12\u001b[0m     \u001b[38;5;28;01mif\u001b[39;00m \u001b[38;5;129;01mnot\u001b[39;00m \u001b[38;5;28misinstance\u001b[39m(riksdaler, Number) \u001b[38;5;129;01mor\u001b[39;00m \u001b[38;5;129;01mnot\u001b[39;00m \u001b[38;5;28misinstance\u001b[39m(skilling, Number):\n\u001b[1;32m---> 13\u001b[0m         \u001b[38;5;28;01mraise\u001b[39;00m \u001b[38;5;167;01mTypeError\u001b[39;00m(\u001b[38;5;124mf\u001b[39m\u001b[38;5;124m\"\u001b[39m\u001b[38;5;124mriksdaler and skilling must be a number\u001b[39m\u001b[38;5;124m\"\u001b[39m)\n\u001b[0;32m     15\u001b[0m     \u001b[38;5;28;01mif\u001b[39;00m riksdaler \u001b[38;5;241m<\u001b[39m\u001b[38;5;241m=\u001b[39m \u001b[38;5;241m0\u001b[39m \u001b[38;5;129;01mor\u001b[39;00m skilling \u001b[38;5;241m<\u001b[39m\u001b[38;5;241m=\u001b[39m \u001b[38;5;241m0\u001b[39m:\n\u001b[0;32m     16\u001b[0m         \u001b[38;5;28;01mraise\u001b[39;00m \u001b[38;5;167;01mValueError\u001b[39;00m(\u001b[38;5;124mf\u001b[39m\u001b[38;5;124m\"\u001b[39m\u001b[38;5;124mNot Valid: You tried to deposit \u001b[39m\u001b[38;5;132;01m{\u001b[39;00mriksdaler\u001b[38;5;132;01m}\u001b[39;00m\u001b[38;5;124m riksdaler and \u001b[39m\u001b[38;5;132;01m{\u001b[39;00mskilling\u001b[38;5;132;01m}\u001b[39;00m\u001b[38;5;124m skilling\u001b[39m\u001b[38;5;124m\"\u001b[39m)\n",
      "\u001b[1;31mTypeError\u001b[0m: riksdaler and skilling must be a number"
     ]
    }
   ],
   "source": [
    "stash1.deposit(\"50\", \"30\")"
   ]
  },
  {
   "cell_type": "code",
   "execution_count": 28,
   "metadata": {},
   "outputs": [
    {
     "data": {
      "text/plain": [
       "'coins in stash: 70 riksdaler, 40 skilling'"
      ]
     },
     "execution_count": 28,
     "metadata": {},
     "output_type": "execute_result"
    }
   ],
   "source": [
    "from numbers import Number \n",
    "\n",
    "class OldCoinStash: \n",
    "    def __init__(self, owner,) -> None:\n",
    "        self.owner = owner \n",
    "\n",
    "        #private, ish\n",
    "        self._riksdaler = 0 \n",
    "        self._skilling = 0 \n",
    "    \n",
    "    def deposit(self, riksdaler, skilling):\n",
    "        if not isinstance(riksdaler, Number) or not isinstance(skilling, Number):\n",
    "            raise TypeError(f\"riksdaler and skilling must be a number\")\n",
    "\n",
    "        if riksdaler <= 0 or skilling <= 0:\n",
    "            raise ValueError(f\"Not Valid: You tried to deposit {riksdaler} riksdaler and {skilling} skilling\")\n",
    "        \n",
    "        self._riksdaler +=  riksdaler\n",
    "        self._skilling += skilling \n",
    "\n",
    "    def withdraw(self, riksdaler, skilling): \n",
    "        \n",
    "        #do typechecking and valuechecking\n",
    "        \n",
    "        self._riksdaler -= riksdaler\n",
    "        self._skilling -= skilling\n",
    "\n",
    "    def checkBalance(self):\n",
    "        return f\"coins in stash: {self._riksdaler} riksdaler, {self._skilling} skilling\"\n",
    "    \n",
    "\n",
    "stash1 = OldCoinStash(\"Noah\")\n",
    "stash1.deposit(50, 30)\n",
    "stash1.deposit(50, 30)\n",
    "stash1.checkBalance()\n",
    "\n",
    "stash1.withdraw(30, 20)\n",
    "stash1.checkBalance()"
   ]
  },
  {
   "cell_type": "markdown",
   "metadata": {},
   "source": [
    "property\n",
    "\n",
    "- diffrance between other languages\n",
    "- ptyhon has dot-syntax for bboth getter and setter\n",
    "- student1.name -> getter, student1.name = \"hanna\" -> setter"
   ]
  },
  {
   "cell_type": "markdown",
   "metadata": {},
   "source": [
    "Använda type hints och docs strings när vi gör labben "
   ]
  },
  {
   "cell_type": "code",
   "execution_count": 1,
   "metadata": {},
   "outputs": [
    {
     "name": "stdout",
     "output_type": "stream",
     "text": [
      "property 'name' of 'student' object has no setter\n",
      "noah\n",
      "age must be between 0 and 125 not {value}\n"
     ]
    },
    {
     "data": {
      "text/plain": [
       "21.0"
      ]
     },
     "execution_count": 1,
     "metadata": {},
     "output_type": "execute_result"
    }
   ],
   "source": [
    "from numbers import Number\n",
    "\n",
    "class student: \n",
    "    \"\"\"Student class for representing student with name, age and active\"\"\" #doc string, bra att skriva för varje klass för att ge info när man hovrar över classen\n",
    "    #type hint, bra att ha med \n",
    "    def __init__(self, name: str, age: int, active: bool) -> None:\n",
    "        self._name = name \n",
    "        self.age = age \n",
    "        self._active = active\n",
    "\n",
    "    #decorator -> changes a function/method to give it extra functionality\n",
    "    #property is a decorator\n",
    "    @property\n",
    "    def name(self): #getter\n",
    "        \"\"\"Read only property, cant set name\"\"\"\n",
    "        return self._name \n",
    "    \n",
    "    @property\n",
    "    def age(self):\n",
    "        return self._age\n",
    "    \n",
    "    @age.setter\n",
    "    def age(self, value: float):\n",
    "        \"\"\"setter for age with error handling\"\"\"\n",
    "        #validation code, protect so the value is ok\n",
    "        value = float(value)\n",
    "\n",
    "        if not isinstance(value, Number):\n",
    "            raise TypeError(f\"Age must be number not {type(value)}\")\n",
    "        \n",
    "        if not (0<=value<=125):\n",
    "            raise ValueError(\"age must be between 0 and 125 not {value}\")\n",
    "        #logic\n",
    "        self._age = value\n",
    "\n",
    "student1 = student(\"noah\", 21, True)\n",
    "try: \n",
    "    student1.name=\"Chan ge\"\n",
    "except AttributeError as err:\n",
    "    print(err)\n",
    "\n",
    "print(student1.name)\n",
    "\n",
    "try:\n",
    "    student1.age = 126\n",
    "except ValueError as err:\n",
    "    print(err)\n",
    "student1.age\n",
    "\n"
   ]
  },
  {
   "cell_type": "code",
   "execution_count": 46,
   "metadata": {},
   "outputs": [
    {
     "ename": "ValueError",
     "evalue": "age must be between 0 and 125 not {value}",
     "output_type": "error",
     "traceback": [
      "\u001b[1;31m---------------------------------------------------------------------------\u001b[0m",
      "\u001b[1;31mValueError\u001b[0m                                Traceback (most recent call last)",
      "Cell \u001b[1;32mIn[46], line 1\u001b[0m\n\u001b[1;32m----> 1\u001b[0m student2 \u001b[38;5;241m=\u001b[39m \u001b[43mstudent\u001b[49m\u001b[43m(\u001b[49m\u001b[38;5;124;43m\"\u001b[39;49m\u001b[38;5;124;43mHanna\u001b[39;49m\u001b[38;5;124;43m\"\u001b[39;49m\u001b[43m,\u001b[49m\u001b[43m \u001b[49m\u001b[38;5;241;43m5555\u001b[39;49m\u001b[43m,\u001b[49m\u001b[43m \u001b[49m\u001b[38;5;28;43;01mTrue\u001b[39;49;00m\u001b[43m)\u001b[49m\n",
      "Cell \u001b[1;32mIn[44], line 8\u001b[0m, in \u001b[0;36mstudent.__init__\u001b[1;34m(self, name, age, active)\u001b[0m\n\u001b[0;32m      6\u001b[0m \u001b[38;5;28;01mdef\u001b[39;00m \u001b[38;5;21m__init__\u001b[39m(\u001b[38;5;28mself\u001b[39m, name: \u001b[38;5;28mstr\u001b[39m, age: \u001b[38;5;28mint\u001b[39m, active: \u001b[38;5;28mbool\u001b[39m) \u001b[38;5;241m-\u001b[39m\u001b[38;5;241m>\u001b[39m \u001b[38;5;28;01mNone\u001b[39;00m:\n\u001b[0;32m      7\u001b[0m     \u001b[38;5;28mself\u001b[39m\u001b[38;5;241m.\u001b[39m_name \u001b[38;5;241m=\u001b[39m name \n\u001b[1;32m----> 8\u001b[0m     \u001b[38;5;28;43mself\u001b[39;49m\u001b[38;5;241;43m.\u001b[39;49m\u001b[43mage\u001b[49m \u001b[38;5;241m=\u001b[39m age \n\u001b[0;32m      9\u001b[0m     \u001b[38;5;28mself\u001b[39m\u001b[38;5;241m.\u001b[39m_active \u001b[38;5;241m=\u001b[39m active\n",
      "Cell \u001b[1;32mIn[44], line 32\u001b[0m, in \u001b[0;36mstudent.age\u001b[1;34m(self, value)\u001b[0m\n\u001b[0;32m     29\u001b[0m     \u001b[38;5;28;01mraise\u001b[39;00m \u001b[38;5;167;01mTypeError\u001b[39;00m(\u001b[38;5;124mf\u001b[39m\u001b[38;5;124m\"\u001b[39m\u001b[38;5;124mAge must be number not \u001b[39m\u001b[38;5;132;01m{\u001b[39;00m\u001b[38;5;28mtype\u001b[39m(value)\u001b[38;5;132;01m}\u001b[39;00m\u001b[38;5;124m\"\u001b[39m)\n\u001b[0;32m     31\u001b[0m \u001b[38;5;28;01mif\u001b[39;00m \u001b[38;5;129;01mnot\u001b[39;00m (\u001b[38;5;241m0\u001b[39m\u001b[38;5;241m<\u001b[39m\u001b[38;5;241m=\u001b[39mvalue\u001b[38;5;241m<\u001b[39m\u001b[38;5;241m=\u001b[39m\u001b[38;5;241m125\u001b[39m):\n\u001b[1;32m---> 32\u001b[0m     \u001b[38;5;28;01mraise\u001b[39;00m \u001b[38;5;167;01mValueError\u001b[39;00m(\u001b[38;5;124m\"\u001b[39m\u001b[38;5;124mage must be between 0 and 125 not \u001b[39m\u001b[38;5;132;01m{value}\u001b[39;00m\u001b[38;5;124m\"\u001b[39m)\n\u001b[0;32m     33\u001b[0m \u001b[38;5;66;03m#logic\u001b[39;00m\n\u001b[0;32m     34\u001b[0m \u001b[38;5;28mself\u001b[39m\u001b[38;5;241m.\u001b[39m_age \u001b[38;5;241m=\u001b[39m value\n",
      "\u001b[1;31mValueError\u001b[0m: age must be between 0 and 125 not {value}"
     ]
    }
   ],
   "source": [
    "student2 = student(\"Hanna\", 5555, True)"
   ]
  }
 ],
 "metadata": {
  "kernelspec": {
   "display_name": "venv",
   "language": "python",
   "name": "python3"
  },
  "language_info": {
   "codemirror_mode": {
    "name": "ipython",
    "version": 3
   },
   "file_extension": ".py",
   "mimetype": "text/x-python",
   "name": "python",
   "nbconvert_exporter": "python",
   "pygments_lexer": "ipython3",
   "version": "3.11.7"
  }
 },
 "nbformat": 4,
 "nbformat_minor": 2
}
