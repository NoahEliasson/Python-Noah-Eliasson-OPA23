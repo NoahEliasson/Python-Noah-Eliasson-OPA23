{
 "cells": [
  {
   "cell_type": "code",
   "execution_count": 1,
   "metadata": {},
   "outputs": [
    {
     "name": "stdout",
     "output_type": "stream",
     "text": [
      "SUperViseD    LEARNinG IS a    PaRt    oF MaCHinE    LEARniNG,   wheRE aLgORithms    LEARn FRom a tRAINIng    DaTa Set. THese   aLgORithms   TRY   TO    MaKE   SeNSe   Of    ThE    DaTa   BY    MaTChiNG    INpUtS   TO    CoRResPonDInG   OutpUTs. In    suPERviseD    LEARNing,    EACH    DaTa   PoINt in    ThE   tRAINIng    Set    IS    LaBELEd WiTH    ThE    CoRReCT    OutpUT,    WHich   aLLOWS   thE ALgORithM    To    LEARn   FRom ThE    ExAMPles. THis   alLOWS   thE    ALgORithM    To    MaKe    PREDIcTions    On    UnSEEN    DaTa, BaSED On    ITs    TRaiNIng. iT    IS    USEd FoR    taSKS SuCH    AS CLaSSIFICaTion, WheRE ThE    GoAL    IS    To    aSSIGn    a LaBEL To    InpUt DaTa,    anD REGrESsIoN, WheRE ThE    GoAL    IS    To    PREDIcT    a CoNtINuoUS    OutpUT VaRIabLE. SuPERviseD    LEARNing    HaS    MaNY    APPLIcatIoNS In    ArEas LIke    Image ReCOGNitiON, NatuRaL    LaNGuaGE PRoCESSINg,    anD FiNaNCiaL FoRECasting.\n"
     ]
    }
   ],
   "source": [
    "## när vi läser filer i python lärde vi oss idag att använd r innan string för att skapa en raw string literal, detta pga att python läser av backslashen som escape chars\n",
    "\n",
    "text_path = r\"C:\\Users\\Noah7\\code\\Github\\Python-Noah-Eliasson-OPA23\\data\\ml_text_raw.txt\"\n",
    "with open(text_path, \"r\") as file:\n",
    "    raw_text = file.read()\n",
    "\n",
    "print(raw_text)"
   ]
  },
  {
   "cell_type": "code",
   "execution_count": 9,
   "metadata": {},
   "outputs": [
    {
     "data": {
      "text/plain": [
       "'SUperViseD LEARNinG IS a PaRt oF MaCHinE LEARniNG, wheRE aLgORithms LEARn FRom a tRAINIng DaTa Set. THese aLgORithms TRY TO MaKE SeNSe Of ThE DaTa BY MaTChiNG INpUtS TO CoRResPonDInG OutpUTs. In suPERviseD LEARNing, EACH DaTa PoINt in ThE tRAINIng Set IS LaBELEd WiTH ThE CoRReCT OutpUT, WHich aLLOWS thE ALgORithM To LEARn FRom ThE ExAMPles. THis alLOWS thE ALgORithM To MaKe PREDIcTions On UnSEEN DaTa, BaSED On ITs TRaiNIng. iT IS USEd FoR taSKS SuCH AS CLaSSIFICaTion, WheRE ThE GoAL IS To aSSIGn a LaBEL To InpUt DaTa, anD REGrESsIoN, WheRE ThE GoAL IS To PREDIcT a CoNtINuoUS OutpUT VaRIabLE. SuPERviseD LEARNing HaS MaNY APPLIcatIoNS In ArEas LIke Image ReCOGNitiON, NatuRaL LaNGuaGE PRoCESSINg, anD FiNaNCiaL FoRECasting.'"
      ]
     },
     "execution_count": 9,
     "metadata": {},
     "output_type": "execute_result"
    }
   ],
   "source": [
    "#good practice to close the file when you are done with it . \n",
    "\n",
    "import re\n",
    "\n",
    "textFixedSpacing = re.sub(r\"[ ]{2,}\", \" \", raw_text)\n",
    "\n",
    "textFixedSpacing\n"
   ]
  },
  {
   "cell_type": "code",
   "execution_count": 16,
   "metadata": {},
   "outputs": [],
   "source": [
    "from numbers import Number\n",
    "\n",
    "class Person:\n",
    "    def __init__(self, name: str, age: int) -> None:\n",
    "        self.age = age\n",
    "        self.name =name\n",
    "        \n",
    "    @property\n",
    "    def age(self) -> int:\n",
    "        return self._age\n",
    "    \n",
    "    @age.setter\n",
    "    def age(self, value: Number) -> None:\n",
    "        if not isinstance(value, Number):\n",
    "            raise TypeError(\"age ...\")\n",
    "        \n",
    "    \n",
    "\n",
    "\n",
    "    def say_hi(self) -> None:\n",
    "        print(f\"Person {self.name} says hi\")\n",
    "\n",
    "\n",
    "p1 = Person(\"noah\", 21)\n",
    "p1.say_hi()"
   ]
  },
  {
   "cell_type": "code",
   "execution_count": 22,
   "metadata": {},
   "outputs": [
    {
     "name": "stdout",
     "output_type": "stream",
     "text": [
      "Student bella talks svenska\n"
     ]
    }
   ],
   "source": [
    "class Student(Person):\n",
    "    \"\"\"A student is from Person class, he is a person that knows a language\"\"\"\n",
    "    def __init__(self, name: str, age: int, language: str) -> None:\n",
    "        super().__init__(name, age) #uses parent class init\n",
    "\n",
    "        self.language = language\n",
    "\n",
    "    #override say hi\n",
    "    def say_hi(self) -> None:\n",
    "        print(f\"Student {self.name} talks {self.language}\")\n",
    "\n",
    "s1 = Student(\"bella\", 20, \"svenska\")\n",
    "s1.say_hi()\n",
    "\n"
   ]
  },
  {
   "cell_type": "code",
   "execution_count": 24,
   "metadata": {},
   "outputs": [
    {
     "ename": "TypeError",
     "evalue": "Viking.__init__() missing 1 required positional argument: 'OldCoinStash'",
     "output_type": "error",
     "traceback": [
      "\u001b[1;31m---------------------------------------------------------------------------\u001b[0m",
      "\u001b[1;31mTypeError\u001b[0m                                 Traceback (most recent call last)",
      "Cell \u001b[1;32mIn[24], line 8\u001b[0m\n\u001b[0;32m      5\u001b[0m         \u001b[38;5;66;03m#composition - \"has a\" relation while inheritance \"is a\" relation\u001b[39;00m\n\u001b[0;32m      6\u001b[0m         \u001b[38;5;28mself\u001b[39m\u001b[38;5;241m.\u001b[39mstash \u001b[38;5;241m=\u001b[39m OldCoinStash(name)\n\u001b[1;32m----> 8\u001b[0m v1 \u001b[38;5;241m=\u001b[39m \u001b[43mViking\u001b[49m\u001b[43m(\u001b[49m\u001b[38;5;124;43m\"\u001b[39;49m\u001b[38;5;124;43mivar\u001b[39;49m\u001b[38;5;124;43m\"\u001b[39;49m\u001b[43m,\u001b[49m\u001b[43m \u001b[49m\u001b[38;5;241;43m32\u001b[39;49m\u001b[43m)\u001b[49m\n\u001b[0;32m      9\u001b[0m v1\u001b[38;5;241m.\u001b[39msay_hi()\n",
      "\u001b[1;31mTypeError\u001b[0m: Viking.__init__() missing 1 required positional argument: 'OldCoinStash'"
     ]
    }
   ],
   "source": [
    "class Viking(Person):\n",
    "    def __init__(self, name: str, age: int) -> None:\n",
    "        super().__init__(name, age)\n",
    "\n",
    "        #composition - \"has a\" relation while inheritance \"is a\" relation\n",
    "        self.stash = OldCoinStash(name)\n",
    "\n",
    "v1 = Viking(\"ivar\", 32)\n",
    "v1.say_hi()"
   ]
  },
  {
   "cell_type": "markdown",
   "metadata": {},
   "source": []
  },
  {
   "cell_type": "markdown",
   "metadata": {},
   "source": [
    " \n",
    "<div style=\"max-width:66ch;\">\n",
    " \n",
    "---\n",
    "## Operator overloading\n",
    " \n",
    "Ability to define and use custom behavior of operators for your objects. This is achieved by implementing dunder or special methods that correspond to that operator.\n",
    " \n",
    "- it gives additional functionality to an operator\n",
    "- e.g. + is overloaded for strings, int, float etc.\n",
    "- Read more: [operator overloading](https://www.geeksforgeeks.org/operator-overloading-in-python/)\n",
    " \n",
    "<table style=\"display:inline-block; text-align:left;\">\n",
    "  <tr style=\"background-color: #174A7E; color: white;\">\n",
    "    <th>Operator</th>\n",
    "    <th>Dunder Method</th>\n",
    "  </tr>\n",
    "  <tr>\n",
    "    <td style=\"text-align: center;\">+</td>\n",
    "    <td style=\"text-align: center;\">__add__(self, other)</td>\n",
    "  </tr>\n",
    "  <tr>\n",
    "    <td style=\"text-align: center;\">-</td>\n",
    "    <td style=\"text-align: center;\">__sub__(self, other)</td>\n",
    "  </tr>\n",
    "  <tr>\n",
    "    <td style=\"text-align: center;\">*</td>\n",
    "    <td style=\"text-align: center;\">__mul__(self, other)</td>\n",
    "  </tr>\n",
    "  <tr>\n",
    "    <td style=\"text-align: center;\">/</td>\n",
    "    <td style=\"text-align: center;\">__div__(self, other)</td>\n",
    "  </tr>\n",
    "  <tr>\n",
    "    <td style=\"text-align: center;\">//</td>\n",
    "    <td style=\"text-align: center;\">__floordiv__(self, other)</td>\n",
    "  </tr>\n",
    "  <tr>\n",
    "    <td style=\"text-align: center;\">%</td>\n",
    "    <td style=\"text-align: center;\">__mod__(self, other)</td>\n",
    "  </tr>\n",
    "  <tr>\n",
    "    <td style=\"text-align: center;\">**</td>\n",
    "    <td style=\"text-align: center;\">__pow__(self, other)</td>\n",
    "  </tr>\n",
    "  <tr>\n",
    "    <td style=\"text-align: center;\"><</td>\n",
    "    <td style=\"text-align: center;\">__lt__(self, other)</td>\n",
    "  </tr>\n",
    "  <tr>\n",
    "    <td style=\"text-align: center;\"><=</td>\n",
    "    <td style=\"text-align: center;\">__le__(self, other)</td>\n",
    "  </tr>\n",
    "  <tr>\n",
    "    <td style=\"text-align: center;\">></td>\n",
    "    <td style=\"text-align: center;\">__gt__(self, other)</td>\n",
    "  </tr>\n",
    "  <tr>\n",
    "    <td style=\"text-align: center;\">>=</td>\n",
    "    <td style=\"text-align: center;\">__ge__(self, other)</td>\n",
    "  </tr>\n",
    "  <tr>\n",
    "    <td style=\"text-align: center;\">==</td>\n",
    "    <td style=\"text-align: center;\">__eq__(self, other)</td>\n",
    "  </tr>\n",
    "</table>\n",
    " \n",
    " \n",
    "- Note that there are more operators that can be overloaded than those specified in this list\n",
    " \n",
    "</div>"
   ]
  },
  {
   "cell_type": "code",
   "execution_count": 55,
   "metadata": {},
   "outputs": [
    {
     "name": "stdout",
     "output_type": "stream",
     "text": [
      "v1.numbers = (1, 2, 3)\n",
      "v2.numbers = (-4, 2, 1)\n",
      "3 3\n",
      "v2*2 =Vector(-8, 4, 2)\n"
     ]
    },
    {
     "data": {
      "text/plain": [
       "3"
      ]
     },
     "execution_count": 55,
     "metadata": {},
     "output_type": "execute_result"
    }
   ],
   "source": [
    "class Vector:\n",
    "    \"\"\"A class to represent a Euclidean vector with magnitude and direction\"\"\"\n",
    "    \n",
    "    # *numbers is a variadic parameter\n",
    "    def __init__(self, *numbers: float) -> None:\n",
    "        for number in numbers:\n",
    "            if not isinstance(number, Number):\n",
    "                raise TypeError(f\"{number} is not a valid number in a vector\")\n",
    "        \n",
    "        if len(numbers) <= 0:\n",
    "            raise ValueError(\"Vector can't be empty\")\n",
    "        \n",
    "        self._numbers = numbers \n",
    "\n",
    "    @property    \n",
    "    def numbers(self) -> tuple:\n",
    "        return self._numbers\n",
    "    \n",
    "    def __add__(self, other: Vector) -> Vector:\n",
    "        if self.validate_vectors(other):\n",
    "            numbers = (a+b for a,b in zip(self.numbers, other.numbers))\n",
    "            return Vector(*numbers)\n",
    "        \n",
    "    def __mul__(self, value: Number) -> Vector: \n",
    "        if not isinstance(value, Number):\n",
    "            raise TypeError(f\"Value must be a number not {type(value)}\")\n",
    "\n",
    "        numbers = (value*a for a in self.numbers)\n",
    "        return Vector(*numbers)\n",
    "    \n",
    "    #to make multi comutative\n",
    "    def __rmul__(self, value: Number) -> bool:\n",
    "        return self*value\n",
    "\n",
    "    def validate_vectors(self, other: Vector) -> bool:\n",
    "        \"\"\"Validates if two vectors have same number of elements\"\"\"\n",
    "        if not isinstance(other, Vector) or len(other) != len(self):\n",
    "            raise TypeError(\"Both must be Vector and have same number of elements\")\n",
    "        return len(self) == len(other)\n",
    "\n",
    "    # operator overloaded len()\n",
    "    def __len__(self) -> int:\n",
    "        return len(self.numbers)\n",
    "\n",
    "    def __repr__(self) -> str:\n",
    "        return f\"Vector{self.numbers}\"\n",
    "    \n",
    "    def __getitem__(self, item: int) -> float: \n",
    "        return self.numbers[item]\n",
    " \n",
    "v1 = Vector(1,2,3)\n",
    "print(f\"{v1.numbers = }\")\n",
    "\n",
    "v2 = Vector(-4,2,1)\n",
    "print(f\"{v2.numbers = }\")\n",
    "\n",
    "print(len(v2), len(v1))\n",
    "\n",
    "print(f\"{v2*2 =}\")\n",
    "\n",
    "v1*2\n",
    "#returns the index, __getitem__\n",
    "v1[2]\n",
    "\n",
    "\n"
   ]
  }
 ],
 "metadata": {
  "kernelspec": {
   "display_name": "venv",
   "language": "python",
   "name": "python3"
  },
  "language_info": {
   "codemirror_mode": {
    "name": "ipython",
    "version": 3
   },
   "file_extension": ".py",
   "mimetype": "text/x-python",
   "name": "python",
   "nbconvert_exporter": "python",
   "pygments_lexer": "ipython3",
   "version": "3.11.7"
  }
 },
 "nbformat": 4,
 "nbformat_minor": 2
}
