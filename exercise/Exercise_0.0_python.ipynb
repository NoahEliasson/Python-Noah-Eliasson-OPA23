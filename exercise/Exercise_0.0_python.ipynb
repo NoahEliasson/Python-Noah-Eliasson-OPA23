{
 "cells": [
  {
   "cell_type": "code",
   "execution_count": 1,
   "metadata": {},
   "outputs": [
    {
     "name": "stdout",
     "output_type": "stream",
     "text": [
      "5.0\n"
     ]
    }
   ],
   "source": [
    "import math \n",
    "\n",
    "a = 3\n",
    "b = 4\n",
    "\n",
    "hypotenuse = math.sqrt(a**2 + b**2)\n",
    "print(hypotenuse)\n",
    "\n"
   ]
  },
  {
   "cell_type": "code",
   "execution_count": 2,
   "metadata": {},
   "outputs": [
    {
     "name": "stdout",
     "output_type": "stream",
     "text": [
      "4.898979485566356\n"
     ]
    }
   ],
   "source": [
    "\n",
    "b = 5 \n",
    "c = 7\n",
    "\n",
    "cathetus_squared = c**2 - b**2\n",
    "cathetus = math.sqrt(cathetus_squared)\n",
    "print(cathetus)"
   ]
  },
  {
   "cell_type": "code",
   "execution_count": 7,
   "metadata": {},
   "outputs": [
    {
     "name": "stdout",
     "output_type": "stream",
     "text": [
      "82%\n"
     ]
    }
   ],
   "source": [
    "accuracy = round(300 / 365, 2)\n",
    "print(f\"{str(accuracy)[2:]}%\")\n",
    "\n"
   ]
  },
  {
   "cell_type": "code",
   "execution_count": 10,
   "metadata": {},
   "outputs": [
    {
     "name": "stdout",
     "output_type": "stream",
     "text": [
      "0.987\n"
     ]
    }
   ],
   "source": [
    "tp = 2 \n",
    "fp = 2 \n",
    "fn = 11\n",
    "tn = 985\n",
    "true = tp + tn\n",
    "false = tp + tn + fp + fn \n",
    "accuracyFire = true / false  \n",
    "print(accuracyFire)"
   ]
  }
 ],
 "metadata": {
  "kernelspec": {
   "display_name": "venv",
   "language": "python",
   "name": "python3"
  },
  "language_info": {
   "codemirror_mode": {
    "name": "ipython",
    "version": 3
   },
   "file_extension": ".py",
   "mimetype": "text/x-python",
   "name": "python",
   "nbconvert_exporter": "python",
   "pygments_lexer": "ipython3",
   "version": "3.11.7"
  }
 },
 "nbformat": 4,
 "nbformat_minor": 2
}
