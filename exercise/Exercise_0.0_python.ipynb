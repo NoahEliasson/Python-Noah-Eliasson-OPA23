{
 "cells": [
  {
   "cell_type": "code",
   "execution_count": 4,
   "metadata": {},
   "outputs": [
    {
     "name": "stdout",
     "output_type": "stream",
     "text": [
      "5.0\n"
     ]
    }
   ],
   "source": [
    "import math \n",
    "\n",
    "a = 3\n",
    "b = 4\n",
    "\n",
    "hypotenuse = math.sqrt(a**2 + b**2)\n",
    "print(hypotenuse)\n",
    "\n"
   ]
  },
  {
   "cell_type": "code",
   "execution_count": 2,
   "metadata": {},
   "outputs": [
    {
     "name": "stdout",
     "output_type": "stream",
     "text": [
      "4.898979485566356\n"
     ]
    }
   ],
   "source": [
    "\n",
    "b = 5 \n",
    "c = 7\n",
    "\n",
    "cathetus_squared = c**2 - b**2\n",
    "cathetus = math.sqrt(cathetus_squared)\n",
    "print(cathetus)"
   ]
  },
  {
   "cell_type": "code",
   "execution_count": 7,
   "metadata": {},
   "outputs": [
    {
     "name": "stdout",
     "output_type": "stream",
     "text": [
      "82%\n"
     ]
    }
   ],
   "source": [
    "accuracy = round(300 / 365, 2)\n",
    "print(f\"{str(accuracy)[2:]}%\")\n",
    "\n"
   ]
  },
  {
   "cell_type": "code",
   "execution_count": 10,
   "metadata": {},
   "outputs": [
    {
     "name": "stdout",
     "output_type": "stream",
     "text": [
      "0.987\n"
     ]
    }
   ],
   "source": [
    "tp = 2 \n",
    "fp = 2 \n",
    "fn = 11\n",
    "tn = 985\n",
    "true = tp + tn\n",
    "false = tp + tn + fp + fn \n",
    "accuracyFire = true / false  \n",
    "print(accuracyFire)"
   ]
  },
  {
   "cell_type": "code",
   "execution_count": 15,
   "metadata": {},
   "outputs": [
    {
     "name": "stdout",
     "output_type": "stream",
     "text": [
      "Distance between the points: 5.1\n"
     ]
    }
   ],
   "source": [
    "\n",
    "# Coordinates of the points\n",
    "x1, y1 = 3, 5\n",
    "x2, y2 = -2, 4\n",
    "\n",
    "# Compute the distance between the points\n",
    "distance = math.sqrt((x2 - x1)**2 + (y2 - y1)**2)\n",
    "rounded_distance = round(distance, 1)\n",
    "print(\"Distance between the points:\", rounded_distance)"
   ]
  },
  {
   "cell_type": "code",
   "execution_count": 21,
   "metadata": {},
   "outputs": [
    {
     "name": "stdout",
     "output_type": "stream",
     "text": [
      "4.12\n"
     ]
    }
   ],
   "source": [
    "x1, y1, z1 = 2, 1, 4 \n",
    "x2, y2, z2 = 3, 1, 0 \n",
    "\n",
    "distance = math.sqrt((x2 - x1)**2 + (y2 - y1)**2 + (z1 - z2)**2)\n",
    "distanceRound = round(distance, 2)\n",
    "print(distanceRound)"
   ]
  },
  {
   "cell_type": "code",
   "execution_count": 27,
   "metadata": {},
   "outputs": [
    {
     "name": "stdout",
     "output_type": "stream",
     "text": [
      "that is a zero\n"
     ]
    }
   ],
   "source": [
    "number = int(input(\"write a number\"))\n",
    "if number < 0:\n",
    "    print(\"that is a negative number\")\n",
    "elif number > 0:\n",
    "    print(\"that is a positve number\")\n",
    "elif number == 0:\n",
    "    print(\"that is a zero\")"
   ]
  },
  {
   "cell_type": "code",
   "execution_count": 30,
   "metadata": {},
   "outputs": [
    {
     "name": "stdout",
     "output_type": "stream",
     "text": [
      "2 is the smallest number \n"
     ]
    }
   ],
   "source": [
    "number1 = int(input(\"write a number\"))\n",
    "number2 = int(input(\"write another number\"))\n",
    "if number1 < number2:\n",
    "    print(f\"{number1} is the smallest number \")\n",
    "if number1 > number2:\n",
    "    print(f\"{number2} is the smallest number \")"
   ]
  },
  {
   "cell_type": "code",
   "execution_count": 31,
   "metadata": {},
   "outputs": [
    {
     "name": "stdout",
     "output_type": "stream",
     "text": [
      "this is invalid for a triangle\n",
      "this makes a right angle is the triangle\n"
     ]
    }
   ],
   "source": [
    "angle1 = int(input(\"enter a angle\"))\n",
    "angle2 = int(input(\"enter another angle\"))\n",
    "angle3 = int(input(\"enter a last angle\"))\n",
    "\n",
    "if angle1 <= 0 or angle2 <= 0 or angle3 <= 0:\n",
    "    print(\"invalid, please enter postive numbers\")\n",
    "\n",
    "if angle1 + angle2 + angle3 != 180:\n",
    "    print(\"this is invalid for a triangle\")\n",
    "\n",
    "if angle1 == 90 or angle2 == 90 or angle3 == 90:\n",
    "    print(\"this makes a right angle is the triangle\")\n",
    "else: \n",
    "    print(\"the triangle does not have a right angle\")"
   ]
  }
 ],
 "metadata": {
  "kernelspec": {
   "display_name": "venv",
   "language": "python",
   "name": "python3"
  },
  "language_info": {
   "codemirror_mode": {
    "name": "ipython",
    "version": 3
   },
   "file_extension": ".py",
   "mimetype": "text/x-python",
   "name": "python",
   "nbconvert_exporter": "python",
   "pygments_lexer": "ipython3",
   "version": "3.11.8"
  }
 },
 "nbformat": 4,
 "nbformat_minor": 2
}
