{
 "cells": [
  {
   "cell_type": "code",
   "execution_count": 4,
   "metadata": {},
   "outputs": [
    {
     "name": "stdout",
     "output_type": "stream",
     "text": [
      "5.0\n"
     ]
    }
   ],
   "source": [
    "import math \n",
    "\n",
    "a = 3\n",
    "b = 4\n",
    "\n",
    "hypotenuse = math.sqrt(a**2 + b**2)\n",
    "print(hypotenuse)\n",
    "\n"
   ]
  },
  {
   "cell_type": "code",
   "execution_count": 2,
   "metadata": {},
   "outputs": [
    {
     "name": "stdout",
     "output_type": "stream",
     "text": [
      "4.898979485566356\n"
     ]
    }
   ],
   "source": [
    "\n",
    "b = 5 \n",
    "c = 7\n",
    "\n",
    "cathetus_squared = c**2 - b**2\n",
    "cathetus = math.sqrt(cathetus_squared)\n",
    "print(cathetus)"
   ]
  },
  {
   "cell_type": "code",
   "execution_count": 7,
   "metadata": {},
   "outputs": [
    {
     "name": "stdout",
     "output_type": "stream",
     "text": [
      "82%\n"
     ]
    }
   ],
   "source": [
    "accuracy = round(300 / 365, 2)\n",
    "print(f\"{str(accuracy)[2:]}%\")\n",
    "\n"
   ]
  },
  {
   "cell_type": "code",
   "execution_count": 10,
   "metadata": {},
   "outputs": [
    {
     "name": "stdout",
     "output_type": "stream",
     "text": [
      "0.987\n"
     ]
    }
   ],
   "source": [
    "tp = 2 \n",
    "fp = 2 \n",
    "fn = 11\n",
    "tn = 985\n",
    "true = tp + tn\n",
    "false = tp + tn + fp + fn \n",
    "accuracyFire = true / false  \n",
    "print(accuracyFire)"
   ]
  },
  {
   "cell_type": "code",
   "execution_count": 15,
   "metadata": {},
   "outputs": [
    {
     "name": "stdout",
     "output_type": "stream",
     "text": [
      "Distance between the points: 5.1\n"
     ]
    }
   ],
   "source": [
    "\n",
    "# Coordinates of the points\n",
    "x1, y1 = 3, 5\n",
    "x2, y2 = -2, 4\n",
    "\n",
    "# Compute the distance between the points\n",
    "distance = math.sqrt((x2 - x1)**2 + (y2 - y1)**2)\n",
    "rounded_distance = round(distance, 1)\n",
    "print(\"Distance between the points:\", rounded_distance)"
   ]
  },
  {
   "cell_type": "code",
   "execution_count": 21,
   "metadata": {},
   "outputs": [
    {
     "name": "stdout",
     "output_type": "stream",
     "text": [
      "4.12\n"
     ]
    }
   ],
   "source": [
    "x1, y1, z1 = 2, 1, 4 \n",
    "x2, y2, z2 = 3, 1, 0 \n",
    "\n",
    "distance = math.sqrt((x2 - x1)**2 + (y2 - y1)**2 + (z1 - z2)**2)\n",
    "distanceRound = round(distance, 2)\n",
    "print(distanceRound)"
   ]
  },
  {
   "cell_type": "code",
   "execution_count": 27,
   "metadata": {},
   "outputs": [
    {
     "name": "stdout",
     "output_type": "stream",
     "text": [
      "that is a zero\n"
     ]
    }
   ],
   "source": [
    "number = int(input(\"write a number\"))\n",
    "if number < 0:\n",
    "    print(\"that is a negative number\")\n",
    "elif number > 0:\n",
    "    print(\"that is a positve number\")\n",
    "elif number == 0:\n",
    "    print(\"that is a zero\")"
   ]
  },
  {
   "cell_type": "code",
   "execution_count": 30,
   "metadata": {},
   "outputs": [
    {
     "name": "stdout",
     "output_type": "stream",
     "text": [
      "2 is the smallest number \n"
     ]
    }
   ],
   "source": [
    "number1 = int(input(\"write a number\"))\n",
    "number2 = int(input(\"write another number\"))\n",
    "if number1 < number2:\n",
    "    print(f\"{number1} is the smallest number \")\n",
    "if number1 > number2:\n",
    "    print(f\"{number2} is the smallest number \")"
   ]
  },
  {
   "cell_type": "code",
   "execution_count": 4,
   "metadata": {},
   "outputs": [
    {
     "ename": "ValueError",
     "evalue": "invalid literal for int() with base 10: ''",
     "output_type": "error",
     "traceback": [
      "\u001b[1;31m---------------------------------------------------------------------------\u001b[0m",
      "\u001b[1;31mValueError\u001b[0m                                Traceback (most recent call last)",
      "Cell \u001b[1;32mIn[4], line 1\u001b[0m\n\u001b[1;32m----> 1\u001b[0m angle1 \u001b[38;5;241m=\u001b[39m \u001b[38;5;28;43mint\u001b[39;49m\u001b[43m(\u001b[49m\u001b[38;5;28;43minput\u001b[39;49m\u001b[43m(\u001b[49m\u001b[38;5;124;43m\"\u001b[39;49m\u001b[38;5;124;43menter a angle\u001b[39;49m\u001b[38;5;124;43m\"\u001b[39;49m\u001b[43m)\u001b[49m\u001b[43m)\u001b[49m\n\u001b[0;32m      2\u001b[0m angle2 \u001b[38;5;241m=\u001b[39m \u001b[38;5;28mint\u001b[39m(\u001b[38;5;28minput\u001b[39m(\u001b[38;5;124m\"\u001b[39m\u001b[38;5;124menter another angle\u001b[39m\u001b[38;5;124m\"\u001b[39m))\n\u001b[0;32m      3\u001b[0m angle3 \u001b[38;5;241m=\u001b[39m \u001b[38;5;28mint\u001b[39m(\u001b[38;5;28minput\u001b[39m(\u001b[38;5;124m\"\u001b[39m\u001b[38;5;124menter a last angle\u001b[39m\u001b[38;5;124m\"\u001b[39m))\n",
      "\u001b[1;31mValueError\u001b[0m: invalid literal for int() with base 10: ''"
     ]
    }
   ],
   "source": [
    "angle1 = int(input(\"enter a angle\"))\n",
    "angle2 = int(input(\"enter another angle\"))\n",
    "angle3 = int(input(\"enter a last angle\"))\n",
    "\n",
    "if angle1 <= 0 or angle2 <= 0 or angle3 <= 0:\n",
    "    print(\"invalid, please enter postive numbers\")\n",
    "\n",
    "if angle1 + angle2 + angle3 != 180:\n",
    "    print(\"this is invalid for a triangle\")\n",
    "\n",
    "if angle1 == 90 or angle2 == 90 or angle3 == 90:\n",
    "    print(\"this makes a right angle is the triangle\")\n",
    "else: \n",
    "    print(\"the triangle does not have a right angle\")"
   ]
  },
  {
   "cell_type": "code",
   "execution_count": 13,
   "metadata": {},
   "outputs": [
    {
     "name": "stdout",
     "output_type": "stream",
     "text": [
      "number of pills: 1-2\n"
     ]
    }
   ],
   "source": [
    "weightInput = int(input(\"Enter you weight\"))\n",
    "ageInput = int(input(\"Enter you age\"))\n",
    "\n",
    "if ageInput <= 12 and weightInput <= 40:\n",
    "    print(\"number of pills: 1-2\")\n",
    "elif ageInput >= 7 and ageInput <= 12 and weightInput >= 26 and weightInput <= 40:\n",
    "    print(\"number of pills: 1/2 - 1\")\n",
    "elif ageInput >= 3 and ageInput <= 7 and weightInput >= 15 and weightInput <= 25:\n",
    "    print(\"1/2\")\n",
    "else: \n",
    "    print(\"There are no numbers of pills for this input, please provide a more generic age and weight close to you\")"
   ]
  },
  {
   "cell_type": "code",
   "execution_count": 14,
   "metadata": {},
   "outputs": [
    {
     "name": "stdout",
     "output_type": "stream",
     "text": [
      "-10\n",
      "-9\n",
      "-8\n",
      "-7\n",
      "-6\n",
      "-5\n",
      "-4\n",
      "-3\n",
      "-2\n",
      "-1\n",
      "0\n",
      "1\n",
      "2\n",
      "3\n",
      "4\n",
      "5\n",
      "6\n",
      "7\n",
      "8\n",
      "9\n",
      "10\n"
     ]
    }
   ],
   "source": [
    "num = -10\n",
    "\n",
    "while num <= 10: \n",
    "    print(num)\n",
    "    num+=1"
   ]
  },
  {
   "cell_type": "code",
   "execution_count": 16,
   "metadata": {},
   "outputs": [
    {
     "ename": "NameError",
     "evalue": "name 'guess' is not defined",
     "output_type": "error",
     "traceback": [
      "\u001b[1;31m---------------------------------------------------------------------------\u001b[0m",
      "\u001b[1;31mNameError\u001b[0m                                 Traceback (most recent call last)",
      "Cell \u001b[1;32mIn[16], line 8\u001b[0m\n\u001b[0;32m      4\u001b[0m     target_number \u001b[38;5;241m=\u001b[39m random\u001b[38;5;241m.\u001b[39mrandint(\u001b[38;5;241m1\u001b[39m, \u001b[38;5;241m100\u001b[39m)\n\u001b[0;32m      6\u001b[0m     guess \u001b[38;5;241m=\u001b[39m \u001b[38;5;28mint\u001b[39m(\u001b[38;5;28minput\u001b[39m(\u001b[38;5;124m\"\u001b[39m\u001b[38;5;124menter a numbne\u001b[39m\u001b[38;5;124m\"\u001b[39m))\n\u001b[1;32m----> 8\u001b[0m \u001b[38;5;28;01mwhile\u001b[39;00m \u001b[43mguess\u001b[49m \u001b[38;5;241m!=\u001b[39m target_number:\n\u001b[0;32m      9\u001b[0m     \u001b[38;5;28;01mif\u001b[39;00m guess \u001b[38;5;241m<\u001b[39m target_number:\n\u001b[0;32m     10\u001b[0m         \u001b[38;5;28mprint\u001b[39m(\u001b[38;5;124m\"\u001b[39m\u001b[38;5;124mYour guess is to low\u001b[39m\u001b[38;5;124m\"\u001b[39m)\n",
      "\u001b[1;31mNameError\u001b[0m: name 'guess' is not defined"
     ]
    }
   ],
   "source": [
    "import random \n",
    "\n",
    "def guess_number():\n",
    "    target_number = random.randint(1, 100)\n",
    "\n",
    "    guess = int(input(\"enter a numbne\"))\n",
    "\n",
    "while guess != target_number:\n",
    "    if guess < target_number:\n",
    "        print(\"Your guess is to low\")\n",
    "    else: \n",
    "        print(\"your guess is to high\")\n",
    "\n",
    "    guess = int(input(\"try again\"))\n",
    "\n",
    "print(f\"congrats you guessed right!{target_number}\")\n",
    "\n",
    "guess_number()\n"
   ]
  },
  {
   "cell_type": "code",
   "execution_count": 20,
   "metadata": {},
   "outputs": [
    {
     "name": "stdout",
     "output_type": "stream",
     "text": [
      "your answer is not correct would to like to try again? Y / N\n",
      "correct!\n"
     ]
    }
   ],
   "source": [
    "import random \n",
    "multinumber1 = random.randint(1, 10)\n",
    "multinumber2 = random.randint(1, 10)\n",
    "correctAnswer = multinumber1 * multinumber2\n",
    "\n",
    "while True:\n",
    "    guess = int(input(f\"what is {multinumber1} * {multinumber2}\"))\n",
    "\n",
    "    if guess == correctAnswer:\n",
    "        print(\"correct!\")\n",
    "        break\n",
    "\n",
    "    else:\n",
    "        print(\"your answer is not correct would to like to try again? Y / N\")\n",
    "        tryAgain = input(\"would to like to try again? Y / N\")\n",
    "        if tryAgain != \"y\":\n",
    "            break\n"
   ]
  },
  {
   "cell_type": "code",
   "execution_count": 3,
   "metadata": {},
   "outputs": [
    {
     "name": "stdout",
     "output_type": "stream",
     "text": [
      "-10\n",
      "-8\n",
      "-6\n",
      "-4\n",
      "-2\n",
      "0\n",
      "2\n",
      "4\n",
      "6\n",
      "8\n",
      "10\n"
     ]
    }
   ],
   "source": [
    "for x in range(-10, 11,2 ):\n",
    "    print(x)"
   ]
  },
  {
   "cell_type": "code",
   "execution_count": 3,
   "metadata": {},
   "outputs": [
    {
     "name": "stdout",
     "output_type": "stream",
     "text": [
      "the total is 5050\n"
     ]
    }
   ],
   "source": [
    "number = 0\n",
    "for x in range(1, 101): \n",
    "    number += x \n",
    "\n",
    "\n",
    "print(f\"the total is {number}\") \n",
    "\n",
    "\n",
    "    \n"
   ]
  },
  {
   "cell_type": "code",
   "execution_count": 13,
   "metadata": {},
   "outputs": [
    {
     "name": "stdout",
     "output_type": "stream",
     "text": [
      "the total is 2500\n"
     ]
    }
   ],
   "source": [
    "number = 0\n",
    "for x in range(1, 100, 2):\n",
    "    number += x\n",
    "\n",
    "print(f\"the total is {number}\") "
   ]
  },
  {
   "cell_type": "code",
   "execution_count": 16,
   "metadata": {},
   "outputs": [
    {
     "name": "stdout",
     "output_type": "stream",
     "text": [
      "6\n",
      "12\n",
      "18\n",
      "24\n",
      "30\n",
      "36\n",
      "42\n",
      "48\n",
      "54\n"
     ]
    }
   ],
   "source": [
    "multi = 6\n",
    "for x in range(1, 10):\n",
    "    result = multi * x\n",
    "\n",
    "    print(result)"
   ]
  },
  {
   "cell_type": "code",
   "execution_count": 19,
   "metadata": {},
   "outputs": [
    {
     "name": "stdout",
     "output_type": "stream",
     "text": [
      "10\n",
      "20\n",
      "30\n",
      "40\n",
      "50\n",
      "60\n",
      "70\n",
      "80\n",
      "90\n",
      "100\n"
     ]
    }
   ],
   "source": [
    "table = int(input(\"enter the table that you want to multiply\"))\n",
    "start = int(input(\"Enter the start\"))\n",
    "end = int(input(\"Enter the end\"))\n",
    "end +=1\n",
    "\n",
    "for x in range(start, end):\n",
    "    result = table * x\n",
    "\n",
    "    print(result)"
   ]
  },
  {
   "cell_type": "code",
   "execution_count": 23,
   "metadata": {},
   "outputs": [
    {
     "name": "stdout",
     "output_type": "stream",
     "text": [
      "1\n"
     ]
    }
   ],
   "source": [
    "n = int(input(\"enter n factorial\"))\n",
    "\n",
    "factorial = 1 \n",
    "for x in range(n, 0 - 1):\n",
    "    factorial *= x\n",
    "\n",
    "print(factorial)\n"
   ]
  }
 ],
 "metadata": {
  "kernelspec": {
   "display_name": "venv",
   "language": "python",
   "name": "python3"
  },
  "language_info": {
   "codemirror_mode": {
    "name": "ipython",
    "version": 3
   },
   "file_extension": ".py",
   "mimetype": "text/x-python",
   "name": "python",
   "nbconvert_exporter": "python",
   "pygments_lexer": "ipython3",
   "version": "3.11.8"
  }
 },
 "nbformat": 4,
 "nbformat_minor": 2
}
